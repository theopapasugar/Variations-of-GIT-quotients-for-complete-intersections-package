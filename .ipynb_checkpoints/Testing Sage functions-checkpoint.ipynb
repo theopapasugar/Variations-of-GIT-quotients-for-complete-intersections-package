{
 "cells": [
  {
   "cell_type": "code",
   "execution_count": 4,
   "metadata": {},
   "outputs": [],
   "source": [
    "from fractions import Fraction"
   ]
  },
  {
   "cell_type": "code",
   "execution_count": 22,
   "metadata": {},
   "outputs": [],
   "source": [
    "import itertools"
   ]
  },
  {
   "cell_type": "code",
   "execution_count": 26,
   "metadata": {},
   "outputs": [],
   "source": [
    "import pickle"
   ]
  },
  {
   "cell_type": "code",
   "execution_count": 5,
   "metadata": {},
   "outputs": [],
   "source": [
    "def denom(float_value):\n",
    "    \"\"\"\n",
    "\n",
    "    @param float_value: float parameter\n",
    "    @return: the denominator of float written as a fraction.\n",
    "    \"\"\"\n",
    "    frac = Fraction(float_value).limit_denominator(1000000000000000)\n",
    "    den = frac.denominator\n",
    "    return den"
   ]
  },
  {
   "cell_type": "code",
   "execution_count": 16,
   "metadata": {},
   "outputs": [],
   "source": [
    "def mult_by_lcm(list1):\n",
    "    \"\"\"\n",
    "\n",
    "    @param list1: list of floats\n",
    "    @return: list multiplied by least common multiple of denominators of list elements.\n",
    "    \"\"\"\n",
    "#    denominator_list = [numb.q for numb in list1 if numb.p != 0]\n",
    "#    lcm = denominator_list[0]\n",
    "#    for d in denominator_list[1:]:\n",
    "#        lcm = lcm * d // math.gcd(lcm, d)\n",
    "#    new_elem = [lcm * frac for frac in list1]\n",
    "#    return new_elem\n",
    "    denominator_list = [list1[i].denominator() for i in range(len(list1))]\n",
    "    lcm = denominator_list[0]\n",
    "    for d in denominator_list[1:]:\n",
    "        lcm = lcm / gcd(lcm, d) * d\n",
    "    new_elem = [x * lcm for x in list1]\n",
    "    return new_elem"
   ]
  },
  {
   "cell_type": "code",
   "execution_count": 10,
   "metadata": {},
   "outputs": [],
   "source": [
    "testl = [1.3, 3.5, 2.7]"
   ]
  },
  {
   "cell_type": "code",
   "execution_count": 14,
   "metadata": {},
   "outputs": [],
   "source": [
    "test2 = [1/3, 3/5, 2/3, 4/3]"
   ]
  },
  {
   "cell_type": "code",
   "execution_count": 13,
   "metadata": {},
   "outputs": [
    {
     "ename": "AttributeError",
     "evalue": "'sage.rings.real_mpfr.RealLiteral' object has no attribute 'denominator'",
     "output_type": "error",
     "traceback": [
      "\u001b[0;31m---------------------------------------------------------------------------\u001b[0m",
      "\u001b[0;31mAttributeError\u001b[0m                            Traceback (most recent call last)",
      "\u001b[0;32m<ipython-input-13-a06a61a2587d>\u001b[0m in \u001b[0;36m<module>\u001b[0;34m()\u001b[0m\n\u001b[0;32m----> 1\u001b[0;31m \u001b[0mmult_by_lcm\u001b[0m\u001b[0;34m(\u001b[0m\u001b[0mtestl\u001b[0m\u001b[0;34m)\u001b[0m\u001b[0;34m\u001b[0m\u001b[0;34m\u001b[0m\u001b[0m\n\u001b[0m",
      "\u001b[0;32m<ipython-input-12-d7c277134ba9>\u001b[0m in \u001b[0;36mmult_by_lcm\u001b[0;34m(list1)\u001b[0m\n\u001b[1;32m     11\u001b[0m \u001b[0;31m#    new_elem = [lcm * frac for frac in list1]\u001b[0m\u001b[0;34m\u001b[0m\u001b[0;34m\u001b[0m\u001b[0;34m\u001b[0m\u001b[0m\n\u001b[1;32m     12\u001b[0m \u001b[0;31m#    return new_elem\u001b[0m\u001b[0;34m\u001b[0m\u001b[0;34m\u001b[0m\u001b[0;34m\u001b[0m\u001b[0m\n\u001b[0;32m---> 13\u001b[0;31m     \u001b[0mdenominator_list\u001b[0m \u001b[0;34m=\u001b[0m \u001b[0;34m[\u001b[0m\u001b[0mlist1\u001b[0m\u001b[0;34m[\u001b[0m\u001b[0mi\u001b[0m\u001b[0;34m]\u001b[0m\u001b[0;34m.\u001b[0m\u001b[0mdenominator\u001b[0m\u001b[0;34m(\u001b[0m\u001b[0;34m)\u001b[0m \u001b[0;32mfor\u001b[0m \u001b[0mi\u001b[0m \u001b[0;32min\u001b[0m \u001b[0mrange\u001b[0m\u001b[0;34m(\u001b[0m\u001b[0mlen\u001b[0m\u001b[0;34m(\u001b[0m\u001b[0mlist1\u001b[0m\u001b[0;34m)\u001b[0m\u001b[0;34m)\u001b[0m\u001b[0;34m]\u001b[0m\u001b[0;34m\u001b[0m\u001b[0;34m\u001b[0m\u001b[0m\n\u001b[0m\u001b[1;32m     14\u001b[0m     \u001b[0mlcm\u001b[0m \u001b[0;34m=\u001b[0m \u001b[0mdenominator_list\u001b[0m\u001b[0;34m[\u001b[0m\u001b[0mInteger\u001b[0m\u001b[0;34m(\u001b[0m\u001b[0;36m0\u001b[0m\u001b[0;34m)\u001b[0m\u001b[0;34m]\u001b[0m\u001b[0;34m\u001b[0m\u001b[0;34m\u001b[0m\u001b[0m\n\u001b[1;32m     15\u001b[0m     \u001b[0;32mfor\u001b[0m \u001b[0md\u001b[0m \u001b[0;32min\u001b[0m \u001b[0mdenominator_list\u001b[0m\u001b[0;34m[\u001b[0m\u001b[0mInteger\u001b[0m\u001b[0;34m(\u001b[0m\u001b[0;36m1\u001b[0m\u001b[0;34m)\u001b[0m\u001b[0;34m:\u001b[0m\u001b[0;34m]\u001b[0m\u001b[0;34m:\u001b[0m\u001b[0;34m\u001b[0m\u001b[0;34m\u001b[0m\u001b[0m\n",
      "\u001b[0;32m<ipython-input-12-d7c277134ba9>\u001b[0m in \u001b[0;36m<listcomp>\u001b[0;34m(.0)\u001b[0m\n\u001b[1;32m     11\u001b[0m \u001b[0;31m#    new_elem = [lcm * frac for frac in list1]\u001b[0m\u001b[0;34m\u001b[0m\u001b[0;34m\u001b[0m\u001b[0;34m\u001b[0m\u001b[0m\n\u001b[1;32m     12\u001b[0m \u001b[0;31m#    return new_elem\u001b[0m\u001b[0;34m\u001b[0m\u001b[0;34m\u001b[0m\u001b[0;34m\u001b[0m\u001b[0m\n\u001b[0;32m---> 13\u001b[0;31m     \u001b[0mdenominator_list\u001b[0m \u001b[0;34m=\u001b[0m \u001b[0;34m[\u001b[0m\u001b[0mlist1\u001b[0m\u001b[0;34m[\u001b[0m\u001b[0mi\u001b[0m\u001b[0;34m]\u001b[0m\u001b[0;34m.\u001b[0m\u001b[0mdenominator\u001b[0m\u001b[0;34m(\u001b[0m\u001b[0;34m)\u001b[0m \u001b[0;32mfor\u001b[0m \u001b[0mi\u001b[0m \u001b[0;32min\u001b[0m \u001b[0mrange\u001b[0m\u001b[0;34m(\u001b[0m\u001b[0mlen\u001b[0m\u001b[0;34m(\u001b[0m\u001b[0mlist1\u001b[0m\u001b[0;34m)\u001b[0m\u001b[0;34m)\u001b[0m\u001b[0;34m]\u001b[0m\u001b[0;34m\u001b[0m\u001b[0;34m\u001b[0m\u001b[0m\n\u001b[0m\u001b[1;32m     14\u001b[0m     \u001b[0mlcm\u001b[0m \u001b[0;34m=\u001b[0m \u001b[0mdenominator_list\u001b[0m\u001b[0;34m[\u001b[0m\u001b[0mInteger\u001b[0m\u001b[0;34m(\u001b[0m\u001b[0;36m0\u001b[0m\u001b[0;34m)\u001b[0m\u001b[0;34m]\u001b[0m\u001b[0;34m\u001b[0m\u001b[0;34m\u001b[0m\u001b[0m\n\u001b[1;32m     15\u001b[0m     \u001b[0;32mfor\u001b[0m \u001b[0md\u001b[0m \u001b[0;32min\u001b[0m \u001b[0mdenominator_list\u001b[0m\u001b[0;34m[\u001b[0m\u001b[0mInteger\u001b[0m\u001b[0;34m(\u001b[0m\u001b[0;36m1\u001b[0m\u001b[0;34m)\u001b[0m\u001b[0;34m:\u001b[0m\u001b[0;34m]\u001b[0m\u001b[0;34m:\u001b[0m\u001b[0;34m\u001b[0m\u001b[0;34m\u001b[0m\u001b[0m\n",
      "\u001b[0;32m/opt/sagemath-9.0/local/lib/python3.7/site-packages/sage/structure/element.pyx\u001b[0m in \u001b[0;36msage.structure.element.Element.__getattr__ (build/cythonized/sage/structure/element.c:4609)\u001b[0;34m()\u001b[0m\n\u001b[1;32m    485\u001b[0m             \u001b[0mAttributeError\u001b[0m\u001b[0;34m:\u001b[0m \u001b[0;34m'LeftZeroSemigroup_with_category.element_class'\u001b[0m \u001b[0mobject\u001b[0m \u001b[0mhas\u001b[0m \u001b[0mno\u001b[0m \u001b[0mattribute\u001b[0m \u001b[0;34m'blah_blah'\u001b[0m\u001b[0;34m\u001b[0m\u001b[0;34m\u001b[0m\u001b[0m\n\u001b[1;32m    486\u001b[0m         \"\"\"\n\u001b[0;32m--> 487\u001b[0;31m         \u001b[0;32mreturn\u001b[0m \u001b[0mself\u001b[0m\u001b[0;34m.\u001b[0m\u001b[0mgetattr_from_category\u001b[0m\u001b[0;34m(\u001b[0m\u001b[0mname\u001b[0m\u001b[0;34m)\u001b[0m\u001b[0;34m\u001b[0m\u001b[0;34m\u001b[0m\u001b[0m\n\u001b[0m\u001b[1;32m    488\u001b[0m \u001b[0;34m\u001b[0m\u001b[0m\n\u001b[1;32m    489\u001b[0m     \u001b[0mcdef\u001b[0m \u001b[0mgetattr_from_category\u001b[0m\u001b[0;34m(\u001b[0m\u001b[0mself\u001b[0m\u001b[0;34m,\u001b[0m \u001b[0mname\u001b[0m\u001b[0;34m)\u001b[0m\u001b[0;34m:\u001b[0m\u001b[0;34m\u001b[0m\u001b[0;34m\u001b[0m\u001b[0m\n",
      "\u001b[0;32m/opt/sagemath-9.0/local/lib/python3.7/site-packages/sage/structure/element.pyx\u001b[0m in \u001b[0;36msage.structure.element.Element.getattr_from_category (build/cythonized/sage/structure/element.c:4718)\u001b[0;34m()\u001b[0m\n\u001b[1;32m    498\u001b[0m         \u001b[0;32melse\u001b[0m\u001b[0;34m:\u001b[0m\u001b[0;34m\u001b[0m\u001b[0;34m\u001b[0m\u001b[0m\n\u001b[1;32m    499\u001b[0m             \u001b[0mcls\u001b[0m \u001b[0;34m=\u001b[0m \u001b[0mP\u001b[0m\u001b[0;34m.\u001b[0m\u001b[0m_abstract_element_class\u001b[0m\u001b[0;34m\u001b[0m\u001b[0;34m\u001b[0m\u001b[0m\n\u001b[0;32m--> 500\u001b[0;31m         \u001b[0;32mreturn\u001b[0m \u001b[0mgetattr_from_other_class\u001b[0m\u001b[0;34m(\u001b[0m\u001b[0mself\u001b[0m\u001b[0;34m,\u001b[0m \u001b[0mcls\u001b[0m\u001b[0;34m,\u001b[0m \u001b[0mname\u001b[0m\u001b[0;34m)\u001b[0m\u001b[0;34m\u001b[0m\u001b[0;34m\u001b[0m\u001b[0m\n\u001b[0m\u001b[1;32m    501\u001b[0m \u001b[0;34m\u001b[0m\u001b[0m\n\u001b[1;32m    502\u001b[0m     \u001b[0;32mdef\u001b[0m \u001b[0m__dir__\u001b[0m\u001b[0;34m(\u001b[0m\u001b[0mself\u001b[0m\u001b[0;34m)\u001b[0m\u001b[0;34m:\u001b[0m\u001b[0;34m\u001b[0m\u001b[0;34m\u001b[0m\u001b[0m\n",
      "\u001b[0;32m/opt/sagemath-9.0/local/lib/python3.7/site-packages/sage/cpython/getattr.pyx\u001b[0m in \u001b[0;36msage.cpython.getattr.getattr_from_other_class (build/cythonized/sage/cpython/getattr.c:2614)\u001b[0;34m()\u001b[0m\n\u001b[1;32m    392\u001b[0m         \u001b[0mdummy_error_message\u001b[0m\u001b[0;34m.\u001b[0m\u001b[0mcls\u001b[0m \u001b[0;34m=\u001b[0m \u001b[0mtype\u001b[0m\u001b[0;34m(\u001b[0m\u001b[0mself\u001b[0m\u001b[0;34m)\u001b[0m\u001b[0;34m\u001b[0m\u001b[0;34m\u001b[0m\u001b[0m\n\u001b[1;32m    393\u001b[0m         \u001b[0mdummy_error_message\u001b[0m\u001b[0;34m.\u001b[0m\u001b[0mname\u001b[0m \u001b[0;34m=\u001b[0m \u001b[0mname\u001b[0m\u001b[0;34m\u001b[0m\u001b[0;34m\u001b[0m\u001b[0m\n\u001b[0;32m--> 394\u001b[0;31m         \u001b[0;32mraise\u001b[0m \u001b[0mAttributeError\u001b[0m\u001b[0;34m(\u001b[0m\u001b[0mdummy_error_message\u001b[0m\u001b[0;34m)\u001b[0m\u001b[0;34m\u001b[0m\u001b[0;34m\u001b[0m\u001b[0m\n\u001b[0m\u001b[1;32m    395\u001b[0m     \u001b[0mattribute\u001b[0m \u001b[0;34m=\u001b[0m \u001b[0;34m<\u001b[0m\u001b[0mobject\u001b[0m\u001b[0;34m>\u001b[0m\u001b[0mattr\u001b[0m\u001b[0;34m\u001b[0m\u001b[0;34m\u001b[0m\u001b[0m\n\u001b[1;32m    396\u001b[0m     \u001b[0;31m# Check for a descriptor (__get__ in Python)\u001b[0m\u001b[0;34m\u001b[0m\u001b[0;34m\u001b[0m\u001b[0;34m\u001b[0m\u001b[0m\n",
      "\u001b[0;31mAttributeError\u001b[0m: 'sage.rings.real_mpfr.RealLiteral' object has no attribute 'denominator'"
     ]
    }
   ],
   "source": [
    "mult_by_lcm(testl)"
   ]
  },
  {
   "cell_type": "code",
   "execution_count": 17,
   "metadata": {},
   "outputs": [
    {
     "data": {
      "text/plain": [
       "[5, 9, 10, 20]"
      ]
     },
     "execution_count": 17,
     "metadata": {},
     "output_type": "execute_result"
    }
   ],
   "source": [
    "mult_by_lcm(test2)"
   ]
  },
  {
   "cell_type": "code",
   "execution_count": 24,
   "metadata": {},
   "outputs": [],
   "source": [
    "def ordertest(seq):\n",
    "    \"\"\"\n",
    "\n",
    "    @param seq: a list which is a sequence of numbers\n",
    "    @return: True or False depending on whether the list is ordered\n",
    "    \"\"\"\n",
    "    return all(earlier >= later for earlier, later in zip(seq, seq[1:]))"
   ]
  },
  {
   "cell_type": "code",
   "execution_count": 18,
   "metadata": {},
   "outputs": [],
   "source": [
    "def ops_set(monomial_list, dim, hyp_no):\n",
    "    \"\"\"\n",
    "\n",
    "    @param monomial_list: a list of list of floats, corresponding to all the monomials of the hyperpsurface\n",
    "    @param dim: int, the dimension of the embedded projective space\n",
    "    @param hyp_no: the number of hypersurfaces\n",
    "    @return: a list of list of floats, corresponding to all the one-parameter subgroups\n",
    "    \"\"\"\n",
    "    dimn = dim+1\n",
    "    flag1 = [1000 for i in range(dim+1)]\n",
    "    r = 2*hyp_no\n",
    "    monomial_combs = list(itertools.combinations(monomial_list, int(r)))\n",
    "    eqs = []\n",
    "    vector3 = [1 for i in range(dimn)]\n",
    "    vector4 = [0 for i in range(dim)]\n",
    "    vector4.insert(0, 1)\n",
    "    vector_f = [vector3, vector4]\n",
    "    vector_t = [0 for i in range(dim)]\n",
    "    vector_t.append(1)\n",
    "    vector_target = vector(vector_t)\n",
    "    for perm in monomial_combs:\n",
    "        total_p = [0 for i in range(dim+1)]\n",
    "        for j in range(len(perm)):\n",
    "            total_p = [a-b for a, b in zip(perm[j], total_p)]\n",
    "        eqs.append(total_p)\n",
    "    full_eqs = [tuple(eqs[i]) for i in range(len(eqs))]\n",
    "    final = list(set(full_eqs))\n",
    "    eqs_final = [list(elem) for elem in final]\n",
    "    #generates all possible equations using the monomials\n",
    "    for i in range(len(eqs_final)):\n",
    "        #removes multiples\n",
    "        for j in range(len(eqs_final)):\n",
    "            if eqs_final[i] == [(-1)*eqs_final[j][k] for k in range(len(eqs_final[j]))] and i != j:\n",
    "                eqs_final[j] = flag1\n",
    "    while flag1 in eqs_final:\n",
    "        eqs_final.remove(flag1)\n",
    "    print(len(eqs_final))\n",
    "    sols = []\n",
    "    combs_list = list(itertools.combinations(eqs_final, int(dim-1)))\n",
    "    combs_list = [list(el) for el in combs_list]\n",
    "    #generates the linear system depending on monomials\n",
    "    for elem in combs_list:\n",
    "        try:\n",
    "            mat_list = elem + vector_f\n",
    "            #cop = elem.deepcopy()\n",
    "            mat = Matrix(tuple(mat_list))\n",
    "            if mat.rank() == dimn:\n",
    "                x1 = mat.solve_right(vector_target)\n",
    "            #solves the determinable linear systems\n",
    "                sols_new = mult_by_lcm(list(x1))\n",
    "            #transforms solutions from floats to ints\n",
    "                sols.append(sols_new)\n",
    "        except Exception as e:\n",
    "            pass\n",
    "    sols_set = []\n",
    "    for elem in sols:\n",
    "        if elem[dim] < 0 and ordertest(elem):\n",
    "            #keeps only normalised one-parameter subgroups\n",
    "            sols_set.append(elem)\n",
    "    full_solution = [tuple(elem) for elem in sols_set]\n",
    "    final_set = list(set(full_solution))  #removes duplicates\n",
    "    final_set1 = [list(elem) for elem in final_set]\n",
    "    print(len(final_set1))\n",
    "    with open(\"ops_set.txt\", \"wb\") as fp:\n",
    "        #Pickling\n",
    "        pickle.dump(final_set1, fp)\n",
    "    return final_set1"
   ]
  },
  {
   "cell_type": "code",
   "execution_count": 19,
   "metadata": {},
   "outputs": [],
   "source": [
    "def monomials(dimension, degree):\n",
    "    \"\"\"\n",
    "\n",
    "    :param dimension: int, the dimension of the embeded projective space\n",
    "    :param degree: int, the degree of the hypersurfaces\n",
    "    :return: a list of lists containing the homogeneous monomials of degree d in dimension n.\n",
    "    \"\"\"\n",
    "    return list(WeightedIntegerVectors(degree, [1 for i in range(dimension + 1)]))"
   ]
  },
  {
   "cell_type": "code",
   "execution_count": 20,
   "metadata": {},
   "outputs": [],
   "source": [
    "monomial_hyp = monomials(3,2)"
   ]
  },
  {
   "cell_type": "code",
   "execution_count": 27,
   "metadata": {},
   "outputs": [
    {
     "name": "stdout",
     "output_type": "stream",
     "text": [
      "53\n",
      "36\n"
     ]
    }
   ],
   "source": [
    "one_parset = ops_set(monomial_hyp, 3,2)"
   ]
  },
  {
   "cell_type": "code",
   "execution_count": 28,
   "metadata": {},
   "outputs": [
    {
     "data": {
      "text/plain": [
       "[[11, 3, -1, -13],\n",
       " [11, 3, -5, -9],\n",
       " [5, 0, -2, -3],\n",
       " [4, 0, -1, -3],\n",
       " [5, 1, -3, -3],\n",
       " [3, 1, 0, -4],\n",
       " [3, -1, -1, -1],\n",
       " [17, 9, -11, -15],\n",
       " [7, -1, -1, -5],\n",
       " [13, 9, -7, -15],\n",
       " [19, 7, -9, -17],\n",
       " [15, -1, -5, -9],\n",
       " [1, 1, -1, -1],\n",
       " [1, 0, 0, -1],\n",
       " [19, 3, -5, -17],\n",
       " [3, 3, -1, -5],\n",
       " [5, 5, -3, -7],\n",
       " [7, 1, -3, -5],\n",
       " [13, 1, -3, -11],\n",
       " [11, 7, -5, -13],\n",
       " [5, 1, 1, -7],\n",
       " [13, 5, -7, -11],\n",
       " [4, 3, -2, -5],\n",
       " [3, 1, -1, -3],\n",
       " [5, 0, -1, -4],\n",
       " [2, 0, -1, -1],\n",
       " [7, 3, -5, -5],\n",
       " [9, 1, -3, -7],\n",
       " [9, 5, -3, -11],\n",
       " [3, 0, -1, -2],\n",
       " [1, 1, 1, -3],\n",
       " [17, 1, -7, -11],\n",
       " [5, 3, -3, -5],\n",
       " [2, 1, -1, -2],\n",
       " [5, 1, -1, -5],\n",
       " [23, -1, -9, -13]]"
      ]
     },
     "execution_count": 28,
     "metadata": {},
     "output_type": "execute_result"
    }
   ],
   "source": [
    "one_parset"
   ]
  },
  {
   "cell_type": "code",
   "execution_count": 29,
   "metadata": {},
   "outputs": [],
   "source": [
    "testl = [1/2, 1/3, 1/4, 1/5]"
   ]
  },
  {
   "cell_type": "code",
   "execution_count": 30,
   "metadata": {},
   "outputs": [
    {
     "data": {
      "text/plain": [
       "[30, 20, 15, 12]"
      ]
     },
     "execution_count": 30,
     "metadata": {},
     "output_type": "execute_result"
    }
   ],
   "source": [
    "mult_by_lcm(testl)"
   ]
  },
  {
   "cell_type": "code",
   "execution_count": 32,
   "metadata": {},
   "outputs": [],
   "source": [
    "def element_wise_multiplication(list1, list2):\n",
    "    return [list1[i] * list2[i] for i in range(len(list1))]"
   ]
  },
  {
   "cell_type": "code",
   "execution_count": 33,
   "metadata": {},
   "outputs": [],
   "source": [
    "test1 = [1,2,3,4]; test2 = [5,6,7,8]"
   ]
  },
  {
   "cell_type": "code",
   "execution_count": 34,
   "metadata": {},
   "outputs": [
    {
     "data": {
      "text/plain": [
       "[5, 12, 21, 32]"
      ]
     },
     "execution_count": 34,
     "metadata": {},
     "output_type": "execute_result"
    }
   ],
   "source": [
    "element_wise_multiplication(test1, test2)"
   ]
  },
  {
   "cell_type": "code",
   "execution_count": 35,
   "metadata": {},
   "outputs": [],
   "source": [
    "test3 = [7,8,9,10,11]"
   ]
  },
  {
   "cell_type": "code",
   "execution_count": 36,
   "metadata": {},
   "outputs": [
    {
     "data": {
      "text/plain": [
       "[7, 16, 27, 40]"
      ]
     },
     "execution_count": 36,
     "metadata": {},
     "output_type": "execute_result"
    }
   ],
   "source": [
    "element_wise_multiplication(test1, test3)"
   ]
  },
  {
   "cell_type": "code",
   "execution_count": 38,
   "metadata": {},
   "outputs": [],
   "source": [
    "def dot_product(list1, list2):\n",
    "    return sum(element_wise_multiplication(list1, list2))"
   ]
  },
  {
   "cell_type": "code",
   "execution_count": 39,
   "metadata": {},
   "outputs": [
    {
     "data": {
      "text/plain": [
       "70"
      ]
     },
     "execution_count": 39,
     "metadata": {},
     "output_type": "execute_result"
    }
   ],
   "source": [
    "dot_product(test1, test2)"
   ]
  },
  {
   "cell_type": "code",
   "execution_count": 40,
   "metadata": {},
   "outputs": [
    {
     "data": {
      "text/plain": [
       "163/60"
      ]
     },
     "execution_count": 40,
     "metadata": {},
     "output_type": "execute_result"
    }
   ],
   "source": [
    "dot_product(test1, testl)"
   ]
  },
  {
   "cell_type": "code",
   "execution_count": 41,
   "metadata": {},
   "outputs": [
    {
     "data": {
      "text/plain": [
       "False"
      ]
     },
     "execution_count": 41,
     "metadata": {},
     "output_type": "execute_result"
    }
   ],
   "source": [
    "ordertest(test1)"
   ]
  },
  {
   "cell_type": "code",
   "execution_count": 42,
   "metadata": {},
   "outputs": [],
   "source": [
    "test4 = [10, 9, 8, 7, 6, 5, 2]"
   ]
  },
  {
   "cell_type": "code",
   "execution_count": 43,
   "metadata": {},
   "outputs": [
    {
     "data": {
      "text/plain": [
       "True"
      ]
     },
     "execution_count": 43,
     "metadata": {},
     "output_type": "execute_result"
    }
   ],
   "source": [
    "ordertest(test4)"
   ]
  },
  {
   "cell_type": "code",
   "execution_count": 44,
   "metadata": {},
   "outputs": [],
   "source": [
    "def gamma_bigger_e(list11, list2, gamma):\n",
    "    prod1 = dot_product(list1, gamma)\n",
    "    prod2 = dot_product(list2, gamma)\n",
    "    if prod1 != prod2:\n",
    "        return prod1 < prod2\n",
    "    else:\n",
    "        return array1 <= array2"
   ]
  },
  {
   "cell_type": "code",
   "execution_count": null,
   "metadata": {},
   "outputs": [],
   "source": [
    "ops = [1, 1, -1, -1]; mon1 = [2, 0, 0, 0]; mon2 = [0, 2, 0, 0]"
   ]
  }
 ],
 "metadata": {
  "kernelspec": {
   "display_name": "SageMath 9.0",
   "language": "sage",
   "name": "sagemath"
  },
  "language_info": {
   "codemirror_mode": {
    "name": "ipython",
    "version": 3
   },
   "file_extension": ".py",
   "mimetype": "text/x-python",
   "name": "python",
   "nbconvert_exporter": "python",
   "pygments_lexer": "ipython3",
   "version": "3.7.3"
  }
 },
 "nbformat": 4,
 "nbformat_minor": 2
}
